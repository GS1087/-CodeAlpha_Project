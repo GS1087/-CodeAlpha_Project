{
 "cells": [
  {
   "cell_type": "code",
   "execution_count": 1,
   "id": "4f45d7d1",
   "metadata": {},
   "outputs": [
    {
     "name": "stdout",
     "output_type": "stream",
     "text": [
      "Conversion rate for Version A: 0.60\n",
      "Conversion rate for Version B: 0.60\n",
      "Chi-square statistic: 0.0000\n",
      "p-value: 1.0000\n",
      "There is no statistically significant difference in conversion rates between Version A and Version B based on the Chi-square test.\n",
      "Consider collecting more data or using a different statistical test if the effect size is small.\n"
     ]
    }
   ],
   "source": [
    "import pandas as pd\n",
    "from scipy import stats  # Import for statistical tests\n",
    "\n",
    "# Sample data (replace with your actual data)\n",
    "data = {\n",
    "    'version': ['A', 'A', 'A', 'B', 'B', 'B', 'A', 'B', 'A', 'B'],\n",
    "    'conversion': [1, 0, 1, 0, 1, 0, 1, 1, 0, 1]\n",
    "}\n",
    "\n",
    "df = pd.DataFrame(data)\n",
    "\n",
    "# Conversion rates for versions A and B\n",
    "conversion_rate_A = df[df['version'] == 'A']['conversion'].mean()\n",
    "conversion_rate_B = df[df['version'] == 'B']['conversion'].mean()\n",
    "\n",
    "# Chi-square test for comparing proportions\n",
    "contingency_table = pd.crosstab(df['version'], df['conversion'])\n",
    "chi2, p_value, _, _ = stats.chi2_contingency(contingency_table)\n",
    "\n",
    "# Print results\n",
    "print(f\"Conversion rate for Version A: {conversion_rate_A:.2f}\")\n",
    "print(f\"Conversion rate for Version B: {conversion_rate_B:.2f}\")\n",
    "print(f\"Chi-square statistic: {chi2:.4f}\")\n",
    "print(f\"p-value: {p_value:.4f}\")\n",
    "\n",
    "# Interpretation\n",
    "if p_value < 0.05:\n",
    "  print(\"There is a statistically significant difference in conversion rates between Version A and Version B.\")\n",
    "  if conversion_rate_B > conversion_rate_A:\n",
    "    print(\"Version B performs better in terms of conversions.\")\n",
    "  else:\n",
    "    print(\"Version A performs better in terms of conversions.\")\n",
    "else:\n",
    "  print(\"There is no statistically significant difference in conversion rates between Version A and Version B based on the Chi-square test.\")\n",
    "  print(\"Consider collecting more data or using a different statistical test if the effect size is small.\")\n",
    "\n",
    "    "
   ]
  },
  {
   "cell_type": "code",
   "execution_count": null,
   "id": "134b1ebc",
   "metadata": {},
   "outputs": [],
   "source": []
  }
 ],
 "metadata": {
  "kernelspec": {
   "display_name": "Python 3 (ipykernel)",
   "language": "python",
   "name": "python3"
  },
  "language_info": {
   "codemirror_mode": {
    "name": "ipython",
    "version": 3
   },
   "file_extension": ".py",
   "mimetype": "text/x-python",
   "name": "python",
   "nbconvert_exporter": "python",
   "pygments_lexer": "ipython3",
   "version": "3.11.5"
  }
 },
 "nbformat": 4,
 "nbformat_minor": 5
}
